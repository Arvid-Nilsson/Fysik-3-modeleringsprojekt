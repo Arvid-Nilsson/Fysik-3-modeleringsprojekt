{
 "cells": [
  {
   "cell_type": "code",
   "execution_count": 1,
   "id": "4d6adbb4",
   "metadata": {},
   "outputs": [],
   "source": [
    "import numpy as np\n",
    "import math\n",
    "import matplotlib.pyplot as plt"
   ]
  },
  {
   "cell_type": "markdown",
   "id": "8aaf205a",
   "metadata": {},
   "source": [
    "# inputs"
   ]
  },
  {
   "cell_type": "code",
   "execution_count": 2,
   "id": "78b7eee5-bf9d-477e-b0a0-61517d0581b9",
   "metadata": {},
   "outputs": [],
   "source": [
    "# The mass of the object in the throwing motion (kg)\n",
    "mass = 0.4\n",
    "#The density of the fluid around the object (kg/m3)\n",
    "p = 1.2\n",
    "#The gravitational acceleration acting uppon the (m/s2)\n",
    "g = 9.82\n",
    "#The frontal area of the object (m2)\n",
    "A = 0\n",
    "#The drag coeficient of the object\n",
    "Cd = 0.47\n",
    "#The difference in time between the points\n",
    "deltaT = 0.1\n",
    "#The starting velocity\n",
    "v0 = 40\n",
    "#The starting angle\n",
    "a0 = 35\n"
   ]
  },
  {
   "cell_type": "markdown",
   "id": "008c4a27",
   "metadata": {},
   "source": [
    "# Calculating steps"
   ]
  },
  {
   "cell_type": "code",
   "execution_count": 3,
   "id": "b1f99fd7",
   "metadata": {},
   "outputs": [],
   "source": [
    "#Calculated values\n",
    "Kd = 0.5*Cd*p*A\n",
    "vx0 = v0 * math.cos(math.radians(a0))\n",
    "vy0 = v0 * math.sin(math.radians(a0))\n",
    "\n",
    "#Creating the arrays for x and y possitions\n",
    "xPositions = np.array([0])\n",
    "yPositions = np.array([0])"
   ]
  },
  {
   "cell_type": "code",
   "execution_count": 4,
   "id": "1abaeff4",
   "metadata": {},
   "outputs": [],
   "source": [
    "def calcFd(tempKd, tempVx, tempVy):\n",
    "    \"\"\"Function to calculate the drag force\"\"\"\n",
    "    return tempKd*(tempVx**2 + tempVy**2)\n",
    "\n",
    "def calcFx(tempFd, tempA):\n",
    "    \"\"\"Calculating the forces in the x direction\"\"\"\n",
    "    return -tempFd * math.cos(math.radians(tempA))\n",
    "\n",
    "def calcFy(tempM, tempG, tempFd, tempA):\n",
    "    \"\"\"Calculating the forces in the y direction\"\"\"\n",
    "    return -tempM * tempG - tempFd * math.cos(math.radians(tempA))\n",
    "\n",
    "def calcAccel(tempF, tempM):\n",
    "    \"\"\"Calculating the accelleration from force and mass\"\"\"\n",
    "    return tempF/tempM\n",
    "\n",
    "def calcVelocity(tempVx, tempVy):\n",
    "    \"\"\"Calculating the velocity based uppon its x and y components\"\"\"\n",
    "    return math.sqrt(tempVx**2 + tempVy**2)\n",
    "\n",
    "def calcAngle(tempVx,TempVy):\n",
    "    \"\"\"Calculating the angle of the resulting force from x and y components\"\"\"\n",
    "    return math.atan((tempVx / TempVy))\n",
    "    \n",
    "    \n",
    "    "
   ]
  },
  {
   "cell_type": "code",
   "execution_count": 5,
   "id": "8e215da4",
   "metadata": {},
   "outputs": [
    {
     "ename": "KeyboardInterrupt",
     "evalue": "",
     "output_type": "error",
     "traceback": [
      "\u001b[1;31m---------------------------------------------------------------------------\u001b[0m",
      "\u001b[1;31mKeyboardInterrupt\u001b[0m                         Traceback (most recent call last)",
      "\u001b[1;32m~\\AppData\\Local\\Temp\\ipykernel_15196\\3583133683.py\u001b[0m in \u001b[0;36m<module>\u001b[1;34m\u001b[0m\n\u001b[0;32m     34\u001b[0m     \u001b[1;31m#Storing the new possition\u001b[0m\u001b[1;33m\u001b[0m\u001b[1;33m\u001b[0m\u001b[0m\n\u001b[0;32m     35\u001b[0m     \u001b[0mxPositions\u001b[0m \u001b[1;33m=\u001b[0m \u001b[0mnp\u001b[0m\u001b[1;33m.\u001b[0m\u001b[0mconcatenate\u001b[0m\u001b[1;33m(\u001b[0m\u001b[1;33m(\u001b[0m\u001b[0mxPositions\u001b[0m\u001b[1;33m,\u001b[0m \u001b[0mnp\u001b[0m\u001b[1;33m.\u001b[0m\u001b[0marray\u001b[0m\u001b[1;33m(\u001b[0m\u001b[1;33m[\u001b[0m\u001b[0mx\u001b[0m\u001b[1;33m]\u001b[0m\u001b[1;33m)\u001b[0m\u001b[1;33m)\u001b[0m\u001b[1;33m)\u001b[0m\u001b[1;33m\u001b[0m\u001b[1;33m\u001b[0m\u001b[0m\n\u001b[1;32m---> 36\u001b[1;33m     \u001b[0myPositions\u001b[0m \u001b[1;33m=\u001b[0m \u001b[0mnp\u001b[0m\u001b[1;33m.\u001b[0m\u001b[0mconcatenate\u001b[0m\u001b[1;33m(\u001b[0m\u001b[1;33m(\u001b[0m\u001b[0myPositions\u001b[0m\u001b[1;33m,\u001b[0m \u001b[0mnp\u001b[0m\u001b[1;33m.\u001b[0m\u001b[0marray\u001b[0m\u001b[1;33m(\u001b[0m\u001b[1;33m[\u001b[0m\u001b[0my\u001b[0m\u001b[1;33m]\u001b[0m\u001b[1;33m)\u001b[0m\u001b[1;33m)\u001b[0m\u001b[1;33m)\u001b[0m\u001b[1;33m\u001b[0m\u001b[1;33m\u001b[0m\u001b[0m\n\u001b[0m",
      "\u001b[1;32m<__array_function__ internals>\u001b[0m in \u001b[0;36mconcatenate\u001b[1;34m(*args, **kwargs)\u001b[0m\n",
      "\u001b[1;31mKeyboardInterrupt\u001b[0m: "
     ]
    }
   ],
   "source": [
    "#Creating temporary values for position and current time\n",
    "x = 0\n",
    "y = 0\n",
    "t = 0\n",
    "#Assigning the temportary values to the starting values\n",
    "Vx = vx0\n",
    "Vy = vy0\n",
    "Angle = a0\n",
    "\n",
    "#Simulating the throwing motion\n",
    "while(y >= 0):\n",
    "    #Calculating the drag force\n",
    "    Fd = calcFd(Kd, Vx, Vy)\n",
    "    \n",
    "    #calculating the forces acting uppon the object in x and y direction\n",
    "    Fx = calcFx(Fd, Angle)\n",
    "    Fy = calcFy(mass, g, Fd, Angle)\n",
    "    \n",
    "    #calculating the accelleration acting uppon the model\n",
    "    Ax = calcAccel(Fx, mass)\n",
    "    Ay = calcAccel(Fy, mass)\n",
    "    \n",
    "    #Calculating the new velocety of the model \n",
    "    Vx = Vx + Ax * deltaT\n",
    "    Vy = Vy + Ax * deltaT\n",
    "    \n",
    "    #Calculating the new angle \n",
    "    Angle = calcAngle(Vx, Vy)\n",
    "    \n",
    "    #Calculating the new position\n",
    "    x = x + Vx * deltaT\n",
    "    y = y + Vy * deltaT\n",
    "    \n",
    "    #Storing the new possition\n",
    "    xPositions = np.concatenate((xPositions, np.array([x])))\n",
    "    yPositions = np.concatenate((yPositions, np.array([y])))\n"
   ]
  },
  {
   "cell_type": "code",
   "execution_count": null,
   "id": "86edeb2d",
   "metadata": {},
   "outputs": [],
   "source": [
    "print(f'Det gjordes {xPositions.size} punkter')"
   ]
  },
  {
   "cell_type": "markdown",
   "id": "a78ce1c4",
   "metadata": {},
   "source": [
    "# Output"
   ]
  },
  {
   "cell_type": "code",
   "execution_count": null,
   "id": "d56bb686",
   "metadata": {},
   "outputs": [],
   "source": [
    "plt.plot(xPositions, yPositions)\n",
    "plt.show"
   ]
  },
  {
   "cell_type": "markdown",
   "id": "9e990372",
   "metadata": {},
   "source": [
    "# finding the cordinates to the highest point"
   ]
  },
  {
   "cell_type": "code",
   "execution_count": null,
   "id": "c31fed6b",
   "metadata": {},
   "outputs": [],
   "source": [
    "maxIndex = np.argmax(yPositions)\n",
    "maxCordinates = np.array([xPositions[maxIndex], yPositions[maxIndex]])\n",
    "print(maxCordinates)"
   ]
  },
  {
   "cell_type": "code",
   "execution_count": null,
   "id": "e19971fa",
   "metadata": {},
   "outputs": [],
   "source": []
  }
 ],
 "metadata": {
  "kernelspec": {
   "display_name": "Python 3 (ipykernel)",
   "language": "python",
   "name": "python3"
  },
  "language_info": {
   "codemirror_mode": {
    "name": "ipython",
    "version": 3
   },
   "file_extension": ".py",
   "mimetype": "text/x-python",
   "name": "python",
   "nbconvert_exporter": "python",
   "pygments_lexer": "ipython3",
   "version": "3.9.13"
  }
 },
 "nbformat": 4,
 "nbformat_minor": 5
}
