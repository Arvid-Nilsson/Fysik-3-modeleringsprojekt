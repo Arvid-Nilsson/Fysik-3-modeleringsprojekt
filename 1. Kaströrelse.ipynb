{
 "cells": [
  {
   "cell_type": "code",
   "execution_count": 2,
   "id": "4d6adbb4",
   "metadata": {},
   "outputs": [],
   "source": [
    "import numpy as np\n",
    "import math\n",
    "import matplotlib.pyplot as plt"
   ]
  },
  {
   "cell_type": "markdown",
   "id": "8aaf205a",
   "metadata": {},
   "source": [
    "# inputs"
   ]
  },
  {
   "cell_type": "code",
   "execution_count": 11,
   "id": "78b7eee5-bf9d-477e-b0a0-61517d0581b9",
   "metadata": {},
   "outputs": [],
   "source": [
    "# The mass of the object in the throwing motion (kg)\n",
    "mass = 0.4\n",
    "#The density of the fluid around the object (kg/m3)\n",
    "p = 1.2\n",
    "#The gravitational acceleration acting uppon the (m/s2)\n",
    "g = 9.82\n",
    "#radius of object\n",
    "r = 0.1 \n",
    "#The frontal area of the object (m2)\n",
    "A = math.pi * (r**2)\n",
    "#The drag coeficient of the object\n",
    "Cd = 0.47\n",
    "#The difference in time between the points\n",
    "deltaT = 0.01\n",
    "#The starting velocity\n",
    "v0 = 40\n",
    "#The starting angle\n",
    "a0 = 35\n",
    "#The starting x position \n",
    "x0 = 0\n",
    "#The starting y position\n",
    "y0 = 0\n"
   ]
  },
  {
   "cell_type": "markdown",
   "id": "008c4a27",
   "metadata": {},
   "source": [
    "# Calculating steps"
   ]
  },
  {
   "cell_type": "code",
   "execution_count": 12,
   "id": "b1f99fd7",
   "metadata": {},
   "outputs": [],
   "source": [
    "#Calculated values\n",
    "Kd = 0.5*Cd*p*A\n",
    "vx0 = v0 * math.cos(math.radians(a0))\n",
    "vy0 = v0 * math.sin(math.radians(a0))\n",
    "\n",
    "#Creating the arrays for x and y possitions\n",
    "xPositions = np.array([x0])\n",
    "yPositions = np.array([y0])"
   ]
  },
  {
   "cell_type": "code",
   "execution_count": 13,
   "id": "1abaeff4",
   "metadata": {},
   "outputs": [],
   "source": [
    "def calcFd(tempKd, tempVx, tempVy):\n",
    "    \"\"\"Function to calculate the drag force\"\"\"\n",
    "    return tempKd*(tempVx**2 + tempVy**2)\n",
    "\n",
    "def calcFx(tempFd, tempA):\n",
    "    \"\"\"Calculating the forces in the x direction\"\"\"\n",
    "    return -tempFd * math.cos(math.radians(tempA))\n",
    "\n",
    "def calcFy(tempM, tempG, tempFd, tempA):\n",
    "    \"\"\"Calculating the forces in the y direction\"\"\"\n",
    "    return -tempM * tempG - tempFd * math.cos(math.radians(tempA))\n",
    "\n",
    "def calcAccel(tempF, tempM):\n",
    "    \"\"\"Calculating the accelleration from force and mass\"\"\"\n",
    "    return tempF/tempM\n",
    "\n",
    "def calcVelocity(tempVx, tempVy):\n",
    "    \"\"\"Calculating the velocity based uppon its x and y components\"\"\"\n",
    "    return math.sqrt(tempVx**2 + tempVy**2)\n",
    "\n",
    "def calcAngle(tempVx,TempVy):\n",
    "    \"\"\"Calculating the angle of the resulting force from x and y components\"\"\"\n",
    "    return math.atan((tempVx / TempVy))\n",
    "    \n",
    "    \n",
    "    "
   ]
  },
  {
   "cell_type": "code",
   "execution_count": 14,
   "id": "8e215da4",
   "metadata": {},
   "outputs": [],
   "source": [
    "#Creating temporary values for position and current time\n",
    "x = x0\n",
    "y = y0\n",
    "t = 0\n",
    "#Assigning the temportary values to the starting values\n",
    "Vx = vx0\n",
    "Vy = vy0\n",
    "Angle = a0\n",
    "\n",
    "#Simulating the throwing motion\n",
    "while(y >= 0):\n",
    "    #Calculating the drag force\n",
    "    Fd = calcFd(Kd, Vx, Vy)\n",
    "    \n",
    "    #calculating the forces acting uppon the object in x and y direction\n",
    "    Fx = calcFx(Fd, Angle)\n",
    "    Fy = calcFy(mass, g, Fd, Angle)\n",
    "    \n",
    "    #calculating the accelleration acting uppon the model\n",
    "    Ax = calcAccel(Fx, mass)\n",
    "    Ay = calcAccel(Fy, mass)\n",
    "    \n",
    "    #Calculating the new velocety of the model \n",
    "    Vx = Vx + Ax * deltaT\n",
    "    Vy = Vy + Ax * deltaT\n",
    "    \n",
    "    #Calculating the new angle \n",
    "    Angle = calcAngle(Vx, Vy)\n",
    "    \n",
    "    #Calculating the new position\n",
    "    x = x + Vx * deltaT\n",
    "    y = y + Vy * deltaT\n",
    "    \n",
    "    #Storing the new possition\n",
    "    xPositions = np.concatenate((xPositions, np.array([x])))\n",
    "    yPositions = np.concatenate((yPositions, np.array([y])))\n"
   ]
  },
  {
   "cell_type": "code",
   "execution_count": 15,
   "id": "86edeb2d",
   "metadata": {},
   "outputs": [
    {
     "name": "stdout",
     "output_type": "stream",
     "text": [
      "Det gjordes 779 punkter\n"
     ]
    }
   ],
   "source": [
    "print(f'Det gjordes {xPositions.size} punkter')"
   ]
  },
  {
   "cell_type": "markdown",
   "id": "a78ce1c4",
   "metadata": {},
   "source": [
    "# Output"
   ]
  },
  {
   "cell_type": "code",
   "execution_count": 16,
   "id": "d56bb686",
   "metadata": {},
   "outputs": [
    {
     "data": {
      "text/plain": [
       "<function matplotlib.pyplot.show(close=None, block=None)>"
      ]
     },
     "execution_count": 16,
     "metadata": {},
     "output_type": "execute_result"
    },
    {
     "data": {
      "image/png": "[encoded data removed]",
      "text/plain": [
       "<Figure size 640x480 with 1 Axes>"
      ]
     },
     "metadata": {},
     "output_type": "display_data"
    }
   ],
   "source": [
    "plt.plot(xPositions, yPositions)\n",
    "plt.xlabel(\"Length (m)\")\n",
    "plt.ylabel(\"Height (m)\")\n",
    "plt.show"
   ]
  },
  {
   "cell_type": "markdown",
   "id": "9e990372",
   "metadata": {},
   "source": [
    "# Finding the cordinates to the highest point"
   ]
  },
  {
   "cell_type": "code",
   "execution_count": 17,
   "id": "c31fed6b",
   "metadata": {},
   "outputs": [
    {
     "name": "stdout",
     "output_type": "stream",
     "text": [
      "Kordinaterna för maxpunkten är [45.11442041 17.70818256]\n"
     ]
    }
   ],
   "source": [
    "maxIndex = np.argmax(yPositions)\n",
    "maxCordinates = np.array([xPositions[maxIndex], yPositions[maxIndex]])\n",
    "print(f\"Kordinaterna för maxpunkten är {maxCordinates}\")"
   ]
  },
  {
   "cell_type": "markdown",
   "id": "cff88591-1a76-4a30-bfb6-5c1ea65b4d24",
   "metadata": {},
   "source": [
    "# Finding the length of the throw"
   ]
  },
  {
   "cell_type": "code",
   "execution_count": 18,
   "id": "1c670f25-3f5b-4e3b-802a-6d40652fdac2",
   "metadata": {},
   "outputs": [
    {
     "name": "stdout",
     "output_type": "stream",
     "text": [
      "Kastlängden är 76.40919763463786\n"
     ]
    }
   ],
   "source": [
    "print(f\"Kastlängden är {xPositions[-1]}\")"
   ]
  },
  {
   "cell_type": "code",
   "execution_count": null,
   "id": "cc3f55f1-cafd-47e5-a02b-a3f86cfaa3ef",
   "metadata": {},
   "outputs": [],
   "source": []
  }
 ],
 "metadata": {
  "kernelspec": {
   "display_name": "Python 3 (ipykernel)",
   "language": "python",
   "name": "python3"
  },
  "language_info": {
   "codemirror_mode": {
    "name": "ipython",
    "version": 3
   },
   "file_extension": ".py",
   "mimetype": "text/x-python",
   "name": "python",
   "nbconvert_exporter": "python",
   "pygments_lexer": "ipython3",
   "version": "3.9.13"
  }
 },
 "nbformat": 4,
 "nbformat_minor": 5
}
